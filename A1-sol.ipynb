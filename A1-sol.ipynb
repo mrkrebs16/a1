{
 "cells": [
  {
   "attachments": {},
   "cell_type": "markdown",
   "id": "9d69ee8f",
   "metadata": {},
   "source": [
    "## Assignment 1\n",
    "\n",
    "*100 points (8% of course grade)*</br>\n",
    "*Assigned: Thu, May 22nd*</br>\n",
    "**Due: Wed, June 4th, 23:59**\n",
    "\n",
    "This homework should be done in parts as soon as (<= 1 week) relevant topics are covered in lectures. If you wait until the last minute, you might be overwhelmed.\n",
    "\n",
    "You must turn in the required files electronically, including this Notebook (A1.ipynb) and a few additional files. Please follow the submission instructions for each problem carefully.\n",
    "\n",
    "In this assignment, you need to solve two problems. In Problem 1, you will write relational algebra queries. In Problem 2, you will draw an E/R diagram."
   ]
  },
  {
   "attachments": {},
   "cell_type": "markdown",
   "id": "bcd509a5",
   "metadata": {},
   "source": [
    "### Problem 1: Query with Relational Algebra (60%)"
   ]
  },
  {
   "attachments": {},
   "cell_type": "markdown",
   "id": "34057103",
   "metadata": {},
   "source": [
    "Consider a database with following schema: \n",
    "\n",
    "- drinker (<u>name</u>, address)\n",
    "- bar (<u>name</u>, address)\n",
    "- beer (<u>name</u>, brewer)\n",
    "- frequents (<u>drinker</u>, <u>bar</u>, times_a_week)\n",
    "- likes (<u>drinker</u>, <u>beer</u>)\n",
    "- serves (<u>bar</u>, <u>beer</u>, price)\n"
   ]
  },
  {
   "attachments": {},
   "cell_type": "markdown",
   "id": "99e91a0a",
   "metadata": {},
   "source": [
    "#### **Preliminary**\n",
    "\n",
    "\n",
    "To write a relational algebra (RA) query in a cell, we have already converted the cells under each question into the [Markdown cell](https://jupyter-notebook.readthedocs.io/en/stable/examples/Notebook/Working%20With%20Markdown%20Cells.html). Then, you will need to type RA queries in the cell using the syntax in [radb](https://users.cs.duke.edu/~junyang/radb/index.html). Below is an example of an RA query in the radb format. Please refer to [the radb cheatsheet](https://users.cs.duke.edu/~junyang/radb/cheat.html) for the full list of syntax of RA queries. Please use the radb's syntax to ensure we can run your RA queries. \n",
    "\n",
    "Example: find the name beers liked by drinkers who frequent the James Joyce Pub bar.\n",
    "```\n",
    "\\project_{beer} ( \n",
    "        (\\select_{bar = 'James Joyce Pub'} Frequents)         \n",
    "         \\join_{Frequents.drinker = Likes.drinker}   /* join with Likes to find beers */\n",
    "         Likes\n",
    ");\n",
    "```\n",
    "\n",
    "\n",
    "You can run RA queries on your local machine after installing radb following the instructions on Canvas. We will also provide an online tool for you to debug your RA queries (stay tuned for the instructions). It will be much easier to grade if we can run your query and also easier for you to debug with query results. The use of the tool is optional, and submissions to the online tool will not be graded (we only grade the Canvas submission).\n"
   ]
  },
  {
   "attachments": {},
   "cell_type": "markdown",
   "id": "4c23ffdc",
   "metadata": {},
   "source": [
    "\n",
    "Now your homework question is to write Relational Algebra queries to answer following questions. \n",
    "\n",
    "Please fill your answer in each cell (and **ONLY the query**) and **DO NOT add or remove** any cells to make the TAs' life easier in evaluating your queries. Questions (1)-(6) are worth 6 points each; (7)-(9) are worth 8 points each.\n"
   ]
  },
  {
   "cell_type": "markdown",
   "id": "b9cf0eec",
   "metadata": {},
   "source": [
    "#### 0. (example) Find names of all bars that Eve frequents."
   ]
  },
  {
   "attachments": {},
   "cell_type": "markdown",
   "id": "87fea50d",
   "metadata": {},
   "source": [
    "/* input your answer in this cell: */\n",
    "\n",
    "\\project_{bar} (\\select_{drinker = 'Eve'} frequents);"
   ]
  },
  {
   "cell_type": "markdown",
   "id": "13b94ae5",
   "metadata": {},
   "source": [
    "#### 1. Find names of beers that  Satisfaction serves"
   ]
  },
  {
   "attachments": {},
   "cell_type": "markdown",
   "id": "2a2cbd61",
   "metadata": {},
   "source": [
    "/* input your answer in this cell: */\n",
    "\n",
    "\\project_{beer} (\\select_{bar = 'Satisfaction'} serves);\n"
   ]
  },
  {
   "cell_type": "markdown",
   "id": "984d30ac",
   "metadata": {},
   "source": [
    "#### 2. Find names of bars that Amy frequents more than once a week"
   ]
  },
  {
   "attachments": {},
   "cell_type": "markdown",
   "id": "99a55a43",
   "metadata": {},
   "source": [
    "/* input your answer in this cell: */\n",
    "\n",
    "\\project_{name} (\\select_{drinker = 'Amy' and times_a_week > 1} frequents);"
   ]
  },
  {
   "attachments": {},
   "cell_type": "markdown",
   "id": "166dfe20",
   "metadata": {},
   "source": [
    "#### 3. Find names of all drinkers who frequent at least two bars (hint: remember to use renaming)\n"
   ]
  },
  {
   "attachments": {},
   "cell_type": "markdown",
   "id": "9da978d3",
   "metadata": {},
   "source": [
    "/* input your answer in this cell: */\n",
    "\n",
    "\\project_{name1} (\n",
    "    \\rename_{name1, bar1, times1} frequents\n",
    "    \\join_{name1 = name2 and bar1 <> bar2}\n",
    "    \\rename_{name2, bar2, times2} frequents\n",
    ");\n",
    "/* rename the two frequents tables to self join them */\n",
    "/* at least two bars -> the same drinker appears in frequents at least twice with different bar names */\n"
   ]
  },
  {
   "attachments": {},
   "cell_type": "markdown",
   "id": "71f49ba4",
   "metadata": {},
   "source": [
    "#### 4. Find bars frequented by either Ben or Dan, but not both"
   ]
  },
  {
   "attachments": {},
   "cell_type": "markdown",
   "id": "a04e257e",
   "metadata": {
    "tags": []
   },
   "source": [
    "/* input your answer in this cell: */\n",
    "\n",
    "\\project_{bar} \\select_{drinker = 'Ben' or drinker = 'Dan'} frequents\n",
    "\\diff\n",
    "(\\project_{bar} \\select_{drinker = 'Ben'} frequents\n",
    " \\intersect\n",
    " \\project_{bar} \\select_{drinker = 'Dan'} frequents);"
   ]
  },
  {
   "attachments": {},
   "cell_type": "markdown",
   "id": "b30eb511",
   "metadata": {},
   "source": [
    "#### 5. Find the names of all drinkers who frequent *every* bar (hint: you may store your intermediate results using [views](https://users.cs.duke.edu/~junyang/radb/advance.html?highlight=view) to make your querying process more clear.)"
   ]
  },
  {
   "attachments": {},
   "cell_type": "markdown",
   "id": "50cb7f77",
   "metadata": {},
   "source": [
    "e.g. with view, the first example query in preliminary can be written as\n",
    "\n",
    "```\n",
    "v1 :- \\select_{bar = 'James Joyce Pub'} Frequents;\n",
    "\\project_{beer} ( \n",
    "        v1 \n",
    "         \\join_{v1.drinker = Likes.drinker}   /* join with Likes to find beers */\n",
    "         Likes\n",
    ");\n",
    "```\n",
    "For view names, please only use **lowercase** letters, because ratest may automatically convert letters to lowercase."
   ]
  },
  {
   "attachments": {},
   "cell_type": "markdown",
   "id": "c6b22b94",
   "metadata": {},
   "source": [
    "/* input your answer in this cell: */\n",
    "\n",
    "e1 :- \\rename_{bar} \\project_{name} bar;\n",
    "\n",
    "e2 :- \\rename_{drinker} \\project_{name} drinker;\n",
    "\n",
    "e3 :- \\project_{drinker,bar} (e1 \\join e2);\n",
    "/* the Cartesian product generates all possible combinations of drinkers and bars) */\n",
    "\n",
    "e4 :- e3 \\diff \\project_{drinker, bar} frequents;\n",
    "/* e4 gives all drinkers who do not frequent every bar */\n",
    "\\project_{name} drinker \\diff \\project_{drinker} e4;"
   ]
  },
  {
   "attachments": {},
   "cell_type": "markdown",
   "id": "8d663394",
   "metadata": {},
   "source": [
    "\n",
    "#### 6. Find names and addresses of drinkers who like Corona but do not frequent Satisfaction"
   ]
  },
  {
   "attachments": {},
   "cell_type": "markdown",
   "id": "246ed095",
   "metadata": {},
   "source": [
    "/* input your answer in this cell: */\n",
    "\n",
    "\\project_{drinker.name, drinker.address} (\n",
    "    \\select_{beer = 'Corona'} likes \\join_{name=drinker} drinker\n",
    ")\n",
    "/* gives drinkers who like Corona */\n",
    "\n",
    "\\diff \n",
    "\n",
    "\\project_{drinker.name, drinker.address} ( \n",
    "    \\select_{bar = 'Satisfaction'} frequents \\join_{name=drinker} drinker\n",
    ");\n",
    "/* negates drinkers who frequents Satisfaction*/"
   ]
  },
  {
   "cell_type": "markdown",
   "id": "fc284754",
   "metadata": {},
   "source": [
    "#### 7. For each beer that Eve likes, find the names of bars that serve it at the lowest price (when a bar serves multiple beers at the same lowest price, they should all be included in the output) (hint: recall the \"trickier exercise\" in the slides for how to present \"the lowest\")"
   ]
  },
  {
   "attachments": {},
   "cell_type": "markdown",
   "id": "bff6c014",
   "metadata": {},
   "source": [
    "/* input your answer in this cell: */\n",
    "\n",
    "\\project_{beer, bar} (\n",
    "\t(\n",
    "\t\t\\project_{bar, beer} serves\n",
    "\t\t\\diff\n",
    "\t\t\\project_{bar1, beer1} (\n",
    "\t\t    \\rename_{bar1, beer1, price1} serves\n",
    "\t\t\t\\join_{beer1=beer2 and price1>price2}\n",
    "\t\t    \\rename_{bar2, beer2, price2} serves\n",
    "\t   )\n",
    "\t   /* to find the \"lowest\": exclude the bar if there's any other bar serves the same beer but with a lower price */\n",
    "\t)\n",
    "\t\\join\n",
    "\t\\select_{drinker='Eve'} likes\n",
    "\t/* join likes table to obtain the (beer, bar) pairs */\n",
    ");"
   ]
  },
  {
   "attachments": {},
   "cell_type": "markdown",
   "id": "40fd1d22",
   "metadata": {},
   "source": [
    "#### 8. Find names of all drinkers who frequent *only* those bars that serve *some* beers they like (drinkers who frequent no bars are included)\n"
   ]
  },
  {
   "attachments": {},
   "cell_type": "markdown",
   "id": "b789a191",
   "metadata": {},
   "source": [
    "/* input your answer in this cell: */\n",
    "\n",
    "\n",
    "// general idea:\n",
    "// (drinkers who frequent only those bars that serve some beers they like) =\n",
    "// (drinkers) -\n",
    "// (drinkers who frequent some bar but like none of the beers served there).\n",
    "\n",
    "// first, let us find all (drinker, bar) pairs where the bar serves some beer\n",
    "// that the drinker likes:\n",
    "e1 :- \\project_{drinker, bar} (likes \\join serves);\n",
    "\n",
    "// then, we find all drinkers who frequent some bar that does not serve any\n",
    "// beer they like:\n",
    "e2 :- \\project_{drinker} (\\project_{drinker, bar} frequents \\diff e1);\n",
    "\n",
    "// finally, the answer is given by:\n",
    "\\project_{name} drinker \\diff e2;\n"
   ]
  },
  {
   "attachments": {},
   "cell_type": "markdown",
   "id": "3bce59f2",
   "metadata": {},
   "source": [
    "#### 9. For each beer, find the drinkers who like this beer but frequent *none* of the bars serving this beer. Format your output as a list of (beer, drinker) pairs."
   ]
  },
  {
   "attachments": {},
   "cell_type": "markdown",
   "id": "d418c953",
   "metadata": {},
   "source": [
    "/* input your answer in this cell: */\n",
    "\n",
    "\\project_{likes.beer, likes.drinker} (likes) \n",
    "/* get all (beer, drinker) pairs that drinker likes the beer */\n",
    "\\diff\n",
    "\\project_{likes.beer, likes.drinker} (\n",
    "    likes \n",
    "    \\join_{likes.drinker = frequents.drinker} frequents \n",
    "    \\join_{frequents.bar = serves.bar and likes.beer = serves.beer} serves\n",
    ");\n",
    "/* negates drinkers who like the beer and frequent some bar serving this beer */"
   ]
  },
  {
   "attachments": {},
   "cell_type": "markdown",
   "id": "755a0031",
   "metadata": {},
   "source": [
    "## Problem 2: ER design (40%)"
   ]
  },
  {
   "attachments": {},
   "cell_type": "markdown",
   "id": "e49f33ff",
   "metadata": {},
   "source": [
    "Design a database that captures the following information:\n",
    "    \n",
    "    \n",
    "- Each person is either a student or teacher, but not both.\n",
    "\n",
    "\n",
    "- Each person has a unique ID, a name, and phone (denoted by the model). \n",
    "\n",
    "\n",
    "- The university offers different courses of study. Each course has a unique name and belongs to a department. In any given school year, a given subject can be taught by only one teacher. A course can be taught over multiple years and a student may study the same course multiple times.\n",
    "\n",
    "\n",
    "- For each student, you need to additionally record the year when he or she entered the university (the class year), as well as his or her favorite subjects.\n",
    "\n",
    "\n",
    "- A student or a teacher can belong to one or multiple departments. You should be able to track each department's head and its current students.\n",
    "\n",
    "\n",
    "- Each department has multiple clubs. You should be able to track each club's current students.\n",
    "\n",
    "\n",
    "Design an E/R diagram for this database. Replace the current `ER-diagram.png` with your figure (you may also use other picture formats like .jpg, but remember to change the filename in the cell below). Very briefly explain the intuitive meaning of any entity and relationship sets as needed. Do not forget to indicate keys and multiplicity of relationships, as well as ISA relationships and weak entity sets (if any), using appropriate notation.\n",
    "\n",
    "\n",
    "If you think some aspects of the above are unclear, feel free to make additional, reasonable assumptions, but state them clearly in your answer. Also, keep in mind that there is no single “correct” design."
   ]
  },
  {
   "attachments": {},
   "cell_type": "markdown",
   "id": "cda21704",
   "metadata": {},
   "source": [
    "One example design is shown below. Your solution does not have to exactly match the reference design."
   ]
  },
  {
   "attachments": {},
   "cell_type": "markdown",
   "id": "2242b3ee",
   "metadata": {},
   "source": [
    "<img src=\"ER-diagram.png\" alt=\"Drawing\" style=\"width: 800px;\"/>"
   ]
  },
  {
   "attachments": {},
   "cell_type": "markdown",
   "id": "bebe7453",
   "metadata": {},
   "source": [
    "`Write a brief explanation for your design in this cell`"
   ]
  },
  {
   "attachments": {},
   "cell_type": "markdown",
   "id": "e46cdbae",
   "metadata": {},
   "source": [
    "### Submission instruction\n",
    "\n",
    "1. For problem 1, answer the questions (1)-(9) in the Markdown cells.\n",
    "\n",
    "2. For problem 2, replace `ER-diagram.png` with your ER diagram in a png/jpg file; write some explanation in the Markdown cell.\n",
    "\n",
    "3. Compress your A1.ipynb (this file) and your ER diagram into A1.zip and submit on Canvas."
   ]
  }
 ],
 "metadata": {
  "kernelspec": {
   "display_name": "ratest",
   "language": "python",
   "name": "python3"
  },
  "language_info": {
   "codemirror_mode": {
    "name": "ipython",
    "version": 3
   },
   "file_extension": ".py",
   "mimetype": "text/x-python",
   "name": "python",
   "nbconvert_exporter": "python",
   "pygments_lexer": "ipython3",
   "version": "3.7.1"
  },
  "vscode": {
   "interpreter": {
    "hash": "502d05b2c65fc31bf8a0f20fb9a06483287797d4acd857737c87d0fee02f7a46"
   }
  }
 },
 "nbformat": 4,
 "nbformat_minor": 5
}
